{
 "cells": [
  {
   "cell_type": "code",
   "execution_count": 29,
   "metadata": {},
   "outputs": [],
   "source": [
    "import numpy as np\n",
    "\n",
    "\n",
    "\n",
    "def load_u(fpath):\n",
    "    with open(fpath) as u:\n",
    "        arr = np.array([eval(l) for l in u.readlines()])\n",
    "    return arr\n",
    "\n",
    "\n",
    "u_1_128 = np.array(load_u(\"./u_1_128.txt\"))\n",
    "u_an_1_128 = np.array(load_u(\"./u_an_1_128.txt\"))\n",
    "u_P_128 = np.array(load_u(\"./u_P_128.txt\"))\n",
    "u_an_P_128 = np.array(load_u(\"./u_an_P_128.txt\"))\n",
    "u_1_256 = np.array(load_u(\"./u_1_256.txt\"))\n",
    "u_an_1_256 = np.array(load_u(\"./u_an_1_256.txt\"))\n",
    "u_P_256 = np.array(load_u(\"./u_P_256.txt\"))\n",
    "u_an_P_256 = np.array(load_u(\"./u_an_P_256.txt\"))"
   ]
  },
  {
   "cell_type": "code",
   "execution_count": null,
   "metadata": {},
   "outputs": [],
   "source": [
    "print(np.abs(u_an_1_128 - u_1_128).max())\n",
    "print(np.abs(u_an_1_256 - u_1_256).max())\n",
    "print(np.abs(u_an_P_128 - u_P_128).max())\n",
    "print(np.abs(u_an_P_256 - u_P_256).max())"
   ]
  },
  {
   "cell_type": "code",
   "execution_count": null,
   "metadata": {},
   "outputs": [],
   "source": [
    "from pylab import *\n",
    "import matplotlib.pyplot as plt\n",
    "from math import pi\n",
    "\n",
    "\n",
    "def frame_printer(picpath: str, arr, arrsize: int, h: float, mcolval: float|None):\n",
    "    if mcolval is None: mcolval = max(arr)\n",
    "    fig = plt.figure(figsize=(8,6))\n",
    "\n",
    "    ax = fig.add_subplot(111,projection='3d')\n",
    "    n = 16\n",
    "\n",
    "    xs = [elem for i in range(0, arrsize, arrsize // 16) for elem in [h * i] * n ** 2]\n",
    "    ys = [elem for i in range(0, arrsize, arrsize // 16) for elem in  [h * i] * n] * n\n",
    "    zs = [h * i for i in range(0, arrsize, arrsize // 16)] * n ** 2\n",
    "\n",
    "\n",
    "    colmap = plt.cm.ScalarMappable(cmap=plt.cm.hsv)\n",
    "    colmap.set_array(arr)\n",
    "\n",
    "    yg = ax.scatter(xs, ys, zs, c=plt.cm.hsv(arr / mcolval), marker='o')\n",
    "    cb = fig.colorbar(colmap, aspect=80, ax=plt.gca())\n",
    "    ax.set_xlabel('X Label')\n",
    "    ax.set_ylabel('Y Label')\n",
    "    ax.set_zlabel('Z Label')\n",
    "    plt.title(picpath[picpath.find('/') + 1 : picpath.find('.')])\n",
    "\n",
    "    plt.savefig(picpath)\n",
    "    plt.close(fig)\n",
    "\n",
    "\n",
    "for i in range(u_1_128.shape[0]):\n",
    "    frame_printer(f\"1_128/u_1_128_{i}.png\", u_1_128[i], 128, 1 / 128, None)\n",
    "    frame_printer(f\"1_128/u_an_1_128_{i}.png\", u_an_1_128[i], 128, 1 / 128, None)\n",
    "    frame_printer(f\"1_128/error_1_128_{i}.png\", np.abs(u_an_1_128[i] - u_1_128[i]), 128, 1 / 128, 1e-4)\n",
    "    frame_printer(f\"P_128/u_P_128_{i}.png\", u_P_128[i], 128, pi / 128, None)\n",
    "    frame_printer(f\"P_128/u_an_P_128_{i}.png\", u_an_P_128[i], 128, pi / 128, None)\n",
    "    frame_printer(f\"P_128/error_P_128_{i}.png\", np.abs(u_an_P_128[i] - u_P_128[i]), 128, pi / 128, 1e-5)\n",
    "    frame_printer(f\"1_256/u_1_256_{i}.png\", u_1_256[i], 256, 1 / 256, None)\n",
    "    frame_printer(f\"1_256/u_an_1_256_{i}.png\", u_an_1_256[i], 256, 1 / 256, None)\n",
    "    frame_printer(f\"1_256/error_1_256_{i}.png\", np.abs(u_an_1_256[i] - u_1_256[i]), 256, 1 / 256, 1e-4)\n",
    "    frame_printer(f\"P_256/u_P_256_{i}.png\", u_P_256[i], 256, pi / 256, None)\n",
    "    frame_printer(f\"P_256/u_an_P_256_{i}.png\", u_an_P_256[i], 256, pi / 256, None)\n",
    "    frame_printer(f\"P_256/error_P_256_{i}.png\", np.abs(u_an_P_256[i] - u_P_256[i]), 256, pi / 256, 1e-5)\n",
    "print(\"\")"
   ]
  },
  {
   "cell_type": "code",
   "execution_count": null,
   "metadata": {},
   "outputs": [],
   "source": []
  }
 ],
 "metadata": {
  "kernelspec": {
   "display_name": "Python 3",
   "language": "python",
   "name": "python3"
  },
  "language_info": {
   "codemirror_mode": {
    "name": "ipython",
    "version": 3
   },
   "file_extension": ".py",
   "mimetype": "text/x-python",
   "name": "python",
   "nbconvert_exporter": "python",
   "pygments_lexer": "ipython3",
   "version": "3.10.4"
  }
 },
 "nbformat": 4,
 "nbformat_minor": 2
}
